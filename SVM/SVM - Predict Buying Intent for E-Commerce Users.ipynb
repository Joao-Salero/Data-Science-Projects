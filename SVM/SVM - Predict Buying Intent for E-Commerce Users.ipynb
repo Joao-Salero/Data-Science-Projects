{
 "cells": [
  {
   "cell_type": "markdown",
   "metadata": {
    "id": "XzwYT1VwejR1"
   },
   "source": [
    "# <font color='blue'>Using SVM to Predict Buying Intent for E-Commerce Users</font>\n"
   ]
  },
  {
   "cell_type": "code",
   "execution_count": 1,
   "metadata": {
    "colab": {
     "base_uri": "https://localhost:8080/"
    },
    "id": "VyjMujMxejR3",
    "outputId": "74cc9b5d-cc8e-412b-fde9-843ee00ad705"
   },
   "outputs": [
    {
     "name": "stdout",
     "output_type": "stream",
     "text": [
      "Python Version for this Jupyter Notebook: 3.7.11\n"
     ]
    }
   ],
   "source": [
    "# Python Version\n",
    "from platform import python_version\n",
    "print('Python Version for this Jupyter Notebook:', python_version())"
   ]
  },
  {
   "cell_type": "markdown",
   "metadata": {
    "id": "2VOaNanHejR4"
   },
   "source": [
    "## Importing Package\n",
    "\n",
    "To update a package, run the command below in the terminal or command prompt:\n",
    "pip install -U pack_name\n",
    "\n",
    "After to installing or updating de packcage, restart the Jupyter Notebook. \n"
   ]
  },
  {
   "cell_type": "code",
   "execution_count": 2,
   "metadata": {
    "colab": {
     "base_uri": "https://localhost:8080/"
    },
    "id": "fk90lL-nL47u",
    "outputId": "c9347e97-8861-4a1c-b7e7-107d7ce58111"
   },
   "outputs": [
    {
     "name": "stderr",
     "output_type": "stream",
     "text": [
      "/usr/local/lib/python3.7/dist-packages/sklearn/externals/six.py:31: FutureWarning: The module is deprecated in version 0.21 and will be removed in version 0.23 since we've dropped support for Python 2.7. Please rely on the official version of six (https://pypi.org/project/six/).\n",
      "  \"(https://pypi.org/project/six/).\", FutureWarning)\n",
      "/usr/local/lib/python3.7/dist-packages/sklearn/utils/deprecation.py:144: FutureWarning: The sklearn.neighbors.base module is  deprecated in version 0.22 and will be removed in version 0.24. The corresponding classes / functions should instead be imported from sklearn.neighbors. Anything that cannot be imported from sklearn.neighbors is now part of the private API.\n",
      "  warnings.warn(message, FutureWarning)\n"
     ]
    }
   ],
   "source": [
    "import time\n",
    "import numpy as np\n",
    "import pandas as pd\n",
    "import seaborn as sns\n",
    "import matplotlib.pyplot as plt\n",
    "from sklearn.preprocessing import StandardScaler\n",
    "from sklearn.preprocessing import LabelEncoder\n",
    "from sklearn.model_selection import train_test_split\n",
    "from sklearn.model_selection import GridSearchCV\n",
    "from sklearn.metrics import precision_score, recall_score, f1_score, accuracy_score, roc_auc_score\n",
    "from sklearn import svm\n",
    "from imblearn.over_sampling import SMOTE\n",
    "import sklearn\n",
    "import warnings\n",
    "warnings.filterwarnings('ignore')"
   ]
  },
  {
   "cell_type": "markdown",
   "metadata": {
    "id": "v1nS9RB6ejR5"
   },
   "source": [
    "## Loading Data\n"
   ]
  },
  {
   "cell_type": "code",
   "execution_count": 3,
   "metadata": {
    "colab": {
     "base_uri": "https://localhost:8080/",
     "height": 226
    },
    "id": "4YyR3y2KejR5",
    "outputId": "c98ed33a-d741-443e-f860-3ee47f61274f"
   },
   "outputs": [
    {
     "data": {
      "text/html": [
       "<div>\n",
       "<style scoped>\n",
       "    .dataframe tbody tr th:only-of-type {\n",
       "        vertical-align: middle;\n",
       "    }\n",
       "\n",
       "    .dataframe tbody tr th {\n",
       "        vertical-align: top;\n",
       "    }\n",
       "\n",
       "    .dataframe thead th {\n",
       "        text-align: right;\n",
       "    }\n",
       "</style>\n",
       "<table border=\"1\" class=\"dataframe\">\n",
       "  <thead>\n",
       "    <tr style=\"text-align: right;\">\n",
       "      <th></th>\n",
       "      <th>Administrative</th>\n",
       "      <th>Administrative_Duration</th>\n",
       "      <th>Informational</th>\n",
       "      <th>Informational_Duration</th>\n",
       "      <th>ProductRelated</th>\n",
       "      <th>ProductRelated_Duration</th>\n",
       "      <th>BounceRates</th>\n",
       "      <th>ExitRates</th>\n",
       "      <th>PageValues</th>\n",
       "      <th>SpecialDay</th>\n",
       "      <th>Month</th>\n",
       "      <th>OperatingSystems</th>\n",
       "      <th>Browser</th>\n",
       "      <th>Region</th>\n",
       "      <th>TrafficType</th>\n",
       "      <th>VisitorType</th>\n",
       "      <th>Weekend</th>\n",
       "      <th>Revenue</th>\n",
       "    </tr>\n",
       "  </thead>\n",
       "  <tbody>\n",
       "    <tr>\n",
       "      <th>0</th>\n",
       "      <td>0.0</td>\n",
       "      <td>0.0</td>\n",
       "      <td>0.0</td>\n",
       "      <td>0.0</td>\n",
       "      <td>1.0</td>\n",
       "      <td>0.000000</td>\n",
       "      <td>0.20</td>\n",
       "      <td>0.20</td>\n",
       "      <td>0.0</td>\n",
       "      <td>0.0</td>\n",
       "      <td>Feb</td>\n",
       "      <td>1</td>\n",
       "      <td>1</td>\n",
       "      <td>1</td>\n",
       "      <td>1</td>\n",
       "      <td>Returning_Visitor</td>\n",
       "      <td>False</td>\n",
       "      <td>False</td>\n",
       "    </tr>\n",
       "    <tr>\n",
       "      <th>1</th>\n",
       "      <td>0.0</td>\n",
       "      <td>0.0</td>\n",
       "      <td>0.0</td>\n",
       "      <td>0.0</td>\n",
       "      <td>2.0</td>\n",
       "      <td>64.000000</td>\n",
       "      <td>0.00</td>\n",
       "      <td>0.10</td>\n",
       "      <td>0.0</td>\n",
       "      <td>0.0</td>\n",
       "      <td>Feb</td>\n",
       "      <td>2</td>\n",
       "      <td>2</td>\n",
       "      <td>1</td>\n",
       "      <td>2</td>\n",
       "      <td>Returning_Visitor</td>\n",
       "      <td>False</td>\n",
       "      <td>False</td>\n",
       "    </tr>\n",
       "    <tr>\n",
       "      <th>2</th>\n",
       "      <td>0.0</td>\n",
       "      <td>-1.0</td>\n",
       "      <td>0.0</td>\n",
       "      <td>-1.0</td>\n",
       "      <td>1.0</td>\n",
       "      <td>-1.000000</td>\n",
       "      <td>0.20</td>\n",
       "      <td>0.20</td>\n",
       "      <td>0.0</td>\n",
       "      <td>0.0</td>\n",
       "      <td>Feb</td>\n",
       "      <td>4</td>\n",
       "      <td>1</td>\n",
       "      <td>9</td>\n",
       "      <td>3</td>\n",
       "      <td>Returning_Visitor</td>\n",
       "      <td>False</td>\n",
       "      <td>False</td>\n",
       "    </tr>\n",
       "    <tr>\n",
       "      <th>3</th>\n",
       "      <td>0.0</td>\n",
       "      <td>0.0</td>\n",
       "      <td>0.0</td>\n",
       "      <td>0.0</td>\n",
       "      <td>2.0</td>\n",
       "      <td>2.666667</td>\n",
       "      <td>0.05</td>\n",
       "      <td>0.14</td>\n",
       "      <td>0.0</td>\n",
       "      <td>0.0</td>\n",
       "      <td>Feb</td>\n",
       "      <td>3</td>\n",
       "      <td>2</td>\n",
       "      <td>2</td>\n",
       "      <td>4</td>\n",
       "      <td>Returning_Visitor</td>\n",
       "      <td>False</td>\n",
       "      <td>False</td>\n",
       "    </tr>\n",
       "    <tr>\n",
       "      <th>4</th>\n",
       "      <td>0.0</td>\n",
       "      <td>0.0</td>\n",
       "      <td>0.0</td>\n",
       "      <td>0.0</td>\n",
       "      <td>10.0</td>\n",
       "      <td>627.500000</td>\n",
       "      <td>0.02</td>\n",
       "      <td>0.05</td>\n",
       "      <td>0.0</td>\n",
       "      <td>0.0</td>\n",
       "      <td>Feb</td>\n",
       "      <td>3</td>\n",
       "      <td>3</td>\n",
       "      <td>1</td>\n",
       "      <td>4</td>\n",
       "      <td>Returning_Visitor</td>\n",
       "      <td>True</td>\n",
       "      <td>False</td>\n",
       "    </tr>\n",
       "  </tbody>\n",
       "</table>\n",
       "</div>"
      ],
      "text/plain": [
       "   Administrative  Administrative_Duration  ...  Weekend  Revenue\n",
       "0             0.0                      0.0  ...    False    False\n",
       "1             0.0                      0.0  ...    False    False\n",
       "2             0.0                     -1.0  ...    False    False\n",
       "3             0.0                      0.0  ...    False    False\n",
       "4             0.0                      0.0  ...     True    False\n",
       "\n",
       "[5 rows x 18 columns]"
      ]
     },
     "execution_count": 3,
     "metadata": {},
     "output_type": "execute_result"
    }
   ],
   "source": [
    "# Loading Data\n",
    "df_original = pd.read_csv('/content/online_shoppers_intention.csv')\n",
    "df_original.head()"
   ]
  },
  {
   "cell_type": "markdown",
   "metadata": {
    "id": "8PgyQ0HIejR5"
   },
   "source": [
    "## Exploratory Analysis"
   ]
  },
  {
   "cell_type": "code",
   "execution_count": 4,
   "metadata": {
    "colab": {
     "base_uri": "https://localhost:8080/"
    },
    "id": "-Ff6Y16TejR6",
    "outputId": "5d4e1d55-189a-4ff6-c738-680fa6e93cf8"
   },
   "outputs": [
    {
     "data": {
      "text/plain": [
       "(12330, 18)"
      ]
     },
     "execution_count": 4,
     "metadata": {},
     "output_type": "execute_result"
    }
   ],
   "source": [
    "# Shape\n",
    "df_original.shape"
   ]
  },
  {
   "cell_type": "code",
   "execution_count": 5,
   "metadata": {
    "colab": {
     "base_uri": "https://localhost:8080/"
    },
    "id": "hmhpnQ3vejR6",
    "outputId": "ee09be2f-1b1d-4378-d86d-316a803ee588"
   },
   "outputs": [
    {
     "data": {
      "text/plain": [
       "Administrative             float64\n",
       "Administrative_Duration    float64\n",
       "Informational              float64\n",
       "Informational_Duration     float64\n",
       "ProductRelated             float64\n",
       "ProductRelated_Duration    float64\n",
       "BounceRates                float64\n",
       "ExitRates                  float64\n",
       "PageValues                 float64\n",
       "SpecialDay                 float64\n",
       "Month                       object\n",
       "OperatingSystems             int64\n",
       "Browser                      int64\n",
       "Region                       int64\n",
       "TrafficType                  int64\n",
       "VisitorType                 object\n",
       "Weekend                       bool\n",
       "Revenue                       bool\n",
       "dtype: object"
      ]
     },
     "execution_count": 5,
     "metadata": {},
     "output_type": "execute_result"
    }
   ],
   "source": [
    "# Data Types\n",
    "df_original.dtypes"
   ]
  },
  {
   "cell_type": "code",
   "execution_count": 6,
   "metadata": {
    "colab": {
     "base_uri": "https://localhost:8080/"
    },
    "id": "F2ufhQl5ejR6",
    "outputId": "bfb29f9d-204e-498e-cc46-7a827103470b"
   },
   "outputs": [
    {
     "name": "stdout",
     "output_type": "stream",
     "text": [
      "Administrative             14\n",
      "Administrative_Duration    14\n",
      "Informational              14\n",
      "Informational_Duration     14\n",
      "ProductRelated             14\n",
      "ProductRelated_Duration    14\n",
      "BounceRates                14\n",
      "ExitRates                  14\n",
      "PageValues                  0\n",
      "SpecialDay                  0\n",
      "Month                       0\n",
      "OperatingSystems            0\n",
      "Browser                     0\n",
      "Region                      0\n",
      "TrafficType                 0\n",
      "VisitorType                 0\n",
      "Weekend                     0\n",
      "Revenue                     0\n",
      "dtype: int64\n"
     ]
    }
   ],
   "source": [
    "# Checking missing values\n",
    "print(df_original.isna().sum())"
   ]
  },
  {
   "cell_type": "code",
   "execution_count": 7,
   "metadata": {
    "id": "rB3KC7-GejR6"
   },
   "outputs": [],
   "source": [
    "# Removing missing values lines\n",
    "df_original.dropna(inplace = True)"
   ]
  },
  {
   "cell_type": "code",
   "execution_count": 8,
   "metadata": {
    "colab": {
     "base_uri": "https://localhost:8080/"
    },
    "id": "etYfXw4LejR7",
    "outputId": "c4f4f727-2bdd-408a-de6f-8e28769033b6"
   },
   "outputs": [
    {
     "name": "stdout",
     "output_type": "stream",
     "text": [
      "Administrative             0\n",
      "Administrative_Duration    0\n",
      "Informational              0\n",
      "Informational_Duration     0\n",
      "ProductRelated             0\n",
      "ProductRelated_Duration    0\n",
      "BounceRates                0\n",
      "ExitRates                  0\n",
      "PageValues                 0\n",
      "SpecialDay                 0\n",
      "Month                      0\n",
      "OperatingSystems           0\n",
      "Browser                    0\n",
      "Region                     0\n",
      "TrafficType                0\n",
      "VisitorType                0\n",
      "Weekend                    0\n",
      "Revenue                    0\n",
      "dtype: int64\n"
     ]
    }
   ],
   "source": [
    "# Checking missing values\n",
    "print(df_original.isna().sum())"
   ]
  },
  {
   "cell_type": "code",
   "execution_count": 9,
   "metadata": {
    "colab": {
     "base_uri": "https://localhost:8080/"
    },
    "id": "L47IXLsmejR7",
    "outputId": "9fea8e46-eab1-43e7-b555-6b0690941061"
   },
   "outputs": [
    {
     "data": {
      "text/plain": [
       "(12316, 18)"
      ]
     },
     "execution_count": 9,
     "metadata": {},
     "output_type": "execute_result"
    }
   ],
   "source": [
    "# Shape\n",
    "df_original.shape"
   ]
  },
  {
   "cell_type": "code",
   "execution_count": 10,
   "metadata": {
    "colab": {
     "base_uri": "https://localhost:8080/"
    },
    "id": "q0JDN-jrejR7",
    "outputId": "b58e25e9-eb1e-4e8a-870c-dbb3819af85e"
   },
   "outputs": [
    {
     "data": {
      "text/plain": [
       "Administrative               27\n",
       "Administrative_Duration    3336\n",
       "Informational                17\n",
       "Informational_Duration     1259\n",
       "ProductRelated              311\n",
       "ProductRelated_Duration    9552\n",
       "BounceRates                1872\n",
       "ExitRates                  4777\n",
       "PageValues                 2704\n",
       "SpecialDay                    6\n",
       "Month                        10\n",
       "OperatingSystems              8\n",
       "Browser                      13\n",
       "Region                        9\n",
       "TrafficType                  20\n",
       "VisitorType                   3\n",
       "Weekend                       2\n",
       "Revenue                       2\n",
       "dtype: int64"
      ]
     },
     "execution_count": 10,
     "metadata": {},
     "output_type": "execute_result"
    }
   ],
   "source": [
    "# Checking Unique Values\n",
    "df_original.nunique()"
   ]
  },
  {
   "cell_type": "markdown",
   "metadata": {
    "id": "eMwDdZ2aejR7"
   },
   "source": [
    "Obs: For visualization purposes, we will split the data into continuous and categorical variables. We will treat all variables with less than 30 unique entries as categorical."
   ]
  },
  {
   "cell_type": "code",
   "execution_count": 11,
   "metadata": {
    "id": "l2SVMx_DejR7"
   },
   "outputs": [],
   "source": [
    "# Preparing the data for the plot\n",
    "\n",
    "# Create a copy of the original dataset\n",
    "df = df_original.copy()\n",
    "\n",
    "# Empty lists for results\n",
    "continuous = []\n",
    "categorical = []\n",
    "\n",
    "# Loop through columns\n",
    "for c in df.columns[:-1]:\n",
    "    if df.nunique()[c] >= 30:\n",
    "        continuous.append(c)\n",
    "    else:\n",
    "        categorical.append(c)"
   ]
  },
  {
   "cell_type": "code",
   "execution_count": 12,
   "metadata": {
    "colab": {
     "base_uri": "https://localhost:8080/"
    },
    "id": "IW96OzLQejR8",
    "outputId": "bb33d295-5cc3-4cab-b250-701f8e357e33"
   },
   "outputs": [
    {
     "data": {
      "text/plain": [
       "['Administrative_Duration',\n",
       " 'Informational_Duration',\n",
       " 'ProductRelated',\n",
       " 'ProductRelated_Duration',\n",
       " 'BounceRates',\n",
       " 'ExitRates',\n",
       " 'PageValues']"
      ]
     },
     "execution_count": 12,
     "metadata": {},
     "output_type": "execute_result"
    }
   ],
   "source": [
    "continuous"
   ]
  },
  {
   "cell_type": "code",
   "execution_count": 13,
   "metadata": {
    "colab": {
     "base_uri": "https://localhost:8080/",
     "height": 206
    },
    "id": "o19_H02ZejR8",
    "outputId": "686b7cc0-7ef9-427f-f3a4-9e1e1d77e9a0"
   },
   "outputs": [
    {
     "data": {
      "text/html": [
       "<div>\n",
       "<style scoped>\n",
       "    .dataframe tbody tr th:only-of-type {\n",
       "        vertical-align: middle;\n",
       "    }\n",
       "\n",
       "    .dataframe tbody tr th {\n",
       "        vertical-align: top;\n",
       "    }\n",
       "\n",
       "    .dataframe thead th {\n",
       "        text-align: right;\n",
       "    }\n",
       "</style>\n",
       "<table border=\"1\" class=\"dataframe\">\n",
       "  <thead>\n",
       "    <tr style=\"text-align: right;\">\n",
       "      <th></th>\n",
       "      <th>Administrative_Duration</th>\n",
       "      <th>Informational_Duration</th>\n",
       "      <th>ProductRelated</th>\n",
       "      <th>ProductRelated_Duration</th>\n",
       "      <th>BounceRates</th>\n",
       "      <th>ExitRates</th>\n",
       "      <th>PageValues</th>\n",
       "    </tr>\n",
       "  </thead>\n",
       "  <tbody>\n",
       "    <tr>\n",
       "      <th>0</th>\n",
       "      <td>0.0</td>\n",
       "      <td>0.0</td>\n",
       "      <td>1.0</td>\n",
       "      <td>0.000000</td>\n",
       "      <td>0.20</td>\n",
       "      <td>0.20</td>\n",
       "      <td>0.0</td>\n",
       "    </tr>\n",
       "    <tr>\n",
       "      <th>1</th>\n",
       "      <td>0.0</td>\n",
       "      <td>0.0</td>\n",
       "      <td>2.0</td>\n",
       "      <td>64.000000</td>\n",
       "      <td>0.00</td>\n",
       "      <td>0.10</td>\n",
       "      <td>0.0</td>\n",
       "    </tr>\n",
       "    <tr>\n",
       "      <th>2</th>\n",
       "      <td>-1.0</td>\n",
       "      <td>-1.0</td>\n",
       "      <td>1.0</td>\n",
       "      <td>-1.000000</td>\n",
       "      <td>0.20</td>\n",
       "      <td>0.20</td>\n",
       "      <td>0.0</td>\n",
       "    </tr>\n",
       "    <tr>\n",
       "      <th>3</th>\n",
       "      <td>0.0</td>\n",
       "      <td>0.0</td>\n",
       "      <td>2.0</td>\n",
       "      <td>2.666667</td>\n",
       "      <td>0.05</td>\n",
       "      <td>0.14</td>\n",
       "      <td>0.0</td>\n",
       "    </tr>\n",
       "    <tr>\n",
       "      <th>4</th>\n",
       "      <td>0.0</td>\n",
       "      <td>0.0</td>\n",
       "      <td>10.0</td>\n",
       "      <td>627.500000</td>\n",
       "      <td>0.02</td>\n",
       "      <td>0.05</td>\n",
       "      <td>0.0</td>\n",
       "    </tr>\n",
       "  </tbody>\n",
       "</table>\n",
       "</div>"
      ],
      "text/plain": [
       "   Administrative_Duration  Informational_Duration  ...  ExitRates  PageValues\n",
       "0                      0.0                     0.0  ...       0.20         0.0\n",
       "1                      0.0                     0.0  ...       0.10         0.0\n",
       "2                     -1.0                    -1.0  ...       0.20         0.0\n",
       "3                      0.0                     0.0  ...       0.14         0.0\n",
       "4                      0.0                     0.0  ...       0.05         0.0\n",
       "\n",
       "[5 rows x 7 columns]"
      ]
     },
     "execution_count": 13,
     "metadata": {},
     "output_type": "execute_result"
    }
   ],
   "source": [
    "# Continuous\n",
    "df[continuous].head()"
   ]
  },
  {
   "cell_type": "code",
   "execution_count": 14,
   "metadata": {
    "colab": {
     "base_uri": "https://localhost:8080/"
    },
    "id": "rlBROds7ejR8",
    "outputId": "038f0a67-b447-4d0d-9589-94eed16dd7ff"
   },
   "outputs": [
    {
     "data": {
      "text/plain": [
       "['Administrative',\n",
       " 'Informational',\n",
       " 'SpecialDay',\n",
       " 'Month',\n",
       " 'OperatingSystems',\n",
       " 'Browser',\n",
       " 'Region',\n",
       " 'TrafficType',\n",
       " 'VisitorType',\n",
       " 'Weekend']"
      ]
     },
     "execution_count": 14,
     "metadata": {},
     "output_type": "execute_result"
    }
   ],
   "source": [
    "categorical"
   ]
  },
  {
   "cell_type": "code",
   "execution_count": 15,
   "metadata": {
    "colab": {
     "base_uri": "https://localhost:8080/",
     "height": 206
    },
    "id": "X7ExxPxfejR8",
    "outputId": "cbfb387e-2faa-463d-8fa3-f7d955fa9f40"
   },
   "outputs": [
    {
     "data": {
      "text/html": [
       "<div>\n",
       "<style scoped>\n",
       "    .dataframe tbody tr th:only-of-type {\n",
       "        vertical-align: middle;\n",
       "    }\n",
       "\n",
       "    .dataframe tbody tr th {\n",
       "        vertical-align: top;\n",
       "    }\n",
       "\n",
       "    .dataframe thead th {\n",
       "        text-align: right;\n",
       "    }\n",
       "</style>\n",
       "<table border=\"1\" class=\"dataframe\">\n",
       "  <thead>\n",
       "    <tr style=\"text-align: right;\">\n",
       "      <th></th>\n",
       "      <th>Administrative</th>\n",
       "      <th>Informational</th>\n",
       "      <th>SpecialDay</th>\n",
       "      <th>Month</th>\n",
       "      <th>OperatingSystems</th>\n",
       "      <th>Browser</th>\n",
       "      <th>Region</th>\n",
       "      <th>TrafficType</th>\n",
       "      <th>VisitorType</th>\n",
       "      <th>Weekend</th>\n",
       "    </tr>\n",
       "  </thead>\n",
       "  <tbody>\n",
       "    <tr>\n",
       "      <th>0</th>\n",
       "      <td>0.0</td>\n",
       "      <td>0.0</td>\n",
       "      <td>0.0</td>\n",
       "      <td>Feb</td>\n",
       "      <td>1</td>\n",
       "      <td>1</td>\n",
       "      <td>1</td>\n",
       "      <td>1</td>\n",
       "      <td>Returning_Visitor</td>\n",
       "      <td>False</td>\n",
       "    </tr>\n",
       "    <tr>\n",
       "      <th>1</th>\n",
       "      <td>0.0</td>\n",
       "      <td>0.0</td>\n",
       "      <td>0.0</td>\n",
       "      <td>Feb</td>\n",
       "      <td>2</td>\n",
       "      <td>2</td>\n",
       "      <td>1</td>\n",
       "      <td>2</td>\n",
       "      <td>Returning_Visitor</td>\n",
       "      <td>False</td>\n",
       "    </tr>\n",
       "    <tr>\n",
       "      <th>2</th>\n",
       "      <td>0.0</td>\n",
       "      <td>0.0</td>\n",
       "      <td>0.0</td>\n",
       "      <td>Feb</td>\n",
       "      <td>4</td>\n",
       "      <td>1</td>\n",
       "      <td>9</td>\n",
       "      <td>3</td>\n",
       "      <td>Returning_Visitor</td>\n",
       "      <td>False</td>\n",
       "    </tr>\n",
       "    <tr>\n",
       "      <th>3</th>\n",
       "      <td>0.0</td>\n",
       "      <td>0.0</td>\n",
       "      <td>0.0</td>\n",
       "      <td>Feb</td>\n",
       "      <td>3</td>\n",
       "      <td>2</td>\n",
       "      <td>2</td>\n",
       "      <td>4</td>\n",
       "      <td>Returning_Visitor</td>\n",
       "      <td>False</td>\n",
       "    </tr>\n",
       "    <tr>\n",
       "      <th>4</th>\n",
       "      <td>0.0</td>\n",
       "      <td>0.0</td>\n",
       "      <td>0.0</td>\n",
       "      <td>Feb</td>\n",
       "      <td>3</td>\n",
       "      <td>3</td>\n",
       "      <td>1</td>\n",
       "      <td>4</td>\n",
       "      <td>Returning_Visitor</td>\n",
       "      <td>True</td>\n",
       "    </tr>\n",
       "  </tbody>\n",
       "</table>\n",
       "</div>"
      ],
      "text/plain": [
       "   Administrative  Informational  ...        VisitorType Weekend\n",
       "0             0.0            0.0  ...  Returning_Visitor   False\n",
       "1             0.0            0.0  ...  Returning_Visitor   False\n",
       "2             0.0            0.0  ...  Returning_Visitor   False\n",
       "3             0.0            0.0  ...  Returning_Visitor   False\n",
       "4             0.0            0.0  ...  Returning_Visitor    True\n",
       "\n",
       "[5 rows x 10 columns]"
      ]
     },
     "execution_count": 15,
     "metadata": {},
     "output_type": "execute_result"
    }
   ],
   "source": [
    "# Categorical\n",
    "df[categorical].head()"
   ]
  },
  {
   "cell_type": "markdown",
   "metadata": {
    "id": "s8sAS9mqejR8"
   },
   "source": [
    "## Graphs for Continuous"
   ]
  },
  {
   "cell_type": "code",
   "execution_count": 16,
   "metadata": {
    "colab": {
     "base_uri": "https://localhost:8080/",
     "height": 584
    },
    "id": "fUZ99DmkejR9",
    "outputId": "acedbc7d-fc69-4bf7-9892-e297699e6896"
   },
   "outputs": [
    {
     "data": {
      "image/png": "[encoded data removed]",
      "text/plain": [
       "<Figure size 864x576 with 7 Axes>"
      ]
     },
     "metadata": {
      "needs_background": "light"
     },
     "output_type": "display_data"
    }
   ],
   "source": [
    "# Plot Area Size\n",
    "fig = plt.figure(figsize = (12,8))\n",
    "\n",
    "# Loop through continuous\n",
    "for i, col in enumerate(continuous):\n",
    "    plt.subplot(3, 3, i + 1);\n",
    "    df.boxplot(col);\n",
    "    plt.tight_layout()\n",
    "    \n",
    "#plt.savefig('imagens/boxplot1.png')"
   ]
  },
  {
   "cell_type": "markdown",
   "metadata": {
    "id": "fkSYeAMEejR9"
   },
   "source": [
    "Obs: Continuous variables look extremely distorted. Let's apply log transformation for better visualization."
   ]
  },
  {
   "cell_type": "code",
   "execution_count": 17,
   "metadata": {
    "id": "dcmFOCHoejR9"
   },
   "outputs": [],
   "source": [
    "# Log in continuous\n",
    "df[continuous] = np.log1p(1 + df[continuous])"
   ]
  },
  {
   "cell_type": "code",
   "execution_count": 18,
   "metadata": {
    "colab": {
     "base_uri": "https://localhost:8080/",
     "height": 585
    },
    "id": "GSXD6TA5ejR9",
    "outputId": "9f0f3b6a-3fa2-4101-a64d-25349926c212"
   },
   "outputs": [
    {
     "data": {
      "image/png": "[encoded data removed]",
      "text/plain": [
       "<Figure size 864x576 with 7 Axes>"
      ]
     },
     "metadata": {
      "needs_background": "light"
     },
     "output_type": "display_data"
    }
   ],
   "source": [
    "# Plot continuous with Log\n",
    "\n",
    "# Plot Area Size\n",
    "fig = plt.figure(figsize = (12,8))\n",
    "\n",
    "# Loop through continuous\n",
    "for i,col in enumerate(continuous):\n",
    "    plt.subplot(3,3,i+1);\n",
    "    df.boxplot(col);\n",
    "    plt.tight_layout()\n",
    "    \n",
    "#plt.savefig('imagens/boxplot2.png')"
   ]
  },
  {
   "cell_type": "markdown",
   "metadata": {
    "id": "WZ-nSdwXejR9"
   },
   "source": [
    "## Correlation Matrix Between Continuous Variables."
   ]
  },
  {
   "cell_type": "code",
   "execution_count": 19,
   "metadata": {
    "colab": {
     "base_uri": "https://localhost:8080/",
     "height": 678
    },
    "id": "nZRWCCfpejR9",
    "outputId": "78a23ddf-4ffc-42a2-f038-a903592e1eb2"
   },
   "outputs": [
    {
     "data": {
      "text/plain": [
       "<matplotlib.axes._subplots.AxesSubplot at 0x7f5a97473d50>"
      ]
     },
     "execution_count": 19,
     "metadata": {},
     "output_type": "execute_result"
    },
    {
     "data": {
      "image/png": "[encoded data removed]",
      "text/plain": [
       "<Figure size 720x720 with 2 Axes>"
      ]
     },
     "metadata": {
      "needs_background": "light"
     },
     "output_type": "display_data"
    }
   ],
   "source": [
    "# Plot Area Size\n",
    "plt.figure(figsize = (10,10))\n",
    "\n",
    "# Correlation Matrix \n",
    "sns.heatmap(df[['Administrative_Duration',\n",
    "                'Informational_Duration',  \n",
    "                'ProductRelated_Duration',\n",
    "                'BounceRates', \n",
    "                'ExitRates', \n",
    "                'PageValues',\n",
    "                'Revenue']].corr(), vmax = 1., square = True)"
   ]
  },
  {
   "cell_type": "markdown",
   "metadata": {
    "id": "LKTQQOcFejR-"
   },
   "source": [
    "## Graph visualization of categorical variables to analyze how the target variable is influenced by them\n"
   ]
  },
  {
   "cell_type": "code",
   "execution_count": 20,
   "metadata": {
    "colab": {
     "base_uri": "https://localhost:8080/",
     "height": 0
    },
    "id": "uOyGD7bAejR-",
    "outputId": "9c5f69e4-2eb5-4598-b492-8b012e3acb96"
   },
   "outputs": [
    {
     "data": {
      "text/plain": [
       "<matplotlib.axes._subplots.AxesSubplot at 0x7f5a97447b10>"
      ]
     },
     "execution_count": 20,
     "metadata": {},
     "output_type": "execute_result"
    },
    {
     "data": {
      "image/png": "[encoded data removed]",
      "text/plain": [
       "<Figure size 432x288 with 1 Axes>"
      ]
     },
     "metadata": {
      "needs_background": "light"
     },
     "output_type": "display_data"
    }
   ],
   "source": [
    "# Countplot: Sell or Not\n",
    "plt.subplot(1,2,2)\n",
    "plt.title(\"Sell or Not\")\n",
    "sns.countplot(df['Revenue'])"
   ]
  },
  {
   "cell_type": "code",
   "execution_count": 21,
   "metadata": {
    "colab": {
     "base_uri": "https://localhost:8080/",
     "height": 0
    },
    "id": "v_Nl-VG6ejR-",
    "outputId": "4c952c9b-a9e6-410d-b550-ae52fefe0ccb"
   },
   "outputs": [
    {
     "data": {
      "text/plain": [
       "<matplotlib.axes._subplots.AxesSubplot at 0x7f5a97388410>"
      ]
     },
     "execution_count": 21,
     "metadata": {},
     "output_type": "execute_result"
    },
    {
     "data": {
      "image/png": "[encoded data removed]",
      "text/plain": [
       "<Figure size 432x288 with 1 Axes>"
      ]
     },
     "metadata": {
      "needs_background": "light"
     },
     "output_type": "display_data"
    }
   ],
   "source": [
    "# Countplot: Visitor Type\n",
    "plt.xlabel(\"Visitor Type\")\n",
    "sns.countplot(df['VisitorType'])"
   ]
  },
  {
   "cell_type": "code",
   "execution_count": 22,
   "metadata": {
    "colab": {
     "base_uri": "https://localhost:8080/",
     "height": 0
    },
    "id": "s9LEIEbUejR-",
    "outputId": "c9da8a18-2890-4b94-a7e5-47de3b2026a6"
   },
   "outputs": [
    {
     "data": {
      "text/plain": [
       "<matplotlib.axes._subplots.AxesSubplot at 0x7f5a975412d0>"
      ]
     },
     "execution_count": 22,
     "metadata": {},
     "output_type": "execute_result"
    },
    {
     "data": {
      "image/png": "[encoded data removed]",
      "text/plain": [
       "<Figure size 1080x360 with 1 Axes>"
      ]
     },
     "metadata": {
      "needs_background": "light"
     },
     "output_type": "display_data"
    }
   ],
   "source": [
    "# Stacked Bar: Visitor Type x Revenue\n",
    "pd.crosstab(df['VisitorType'], df['Revenue']).plot(kind = 'bar', \n",
    "                                                   stacked = True, \n",
    "                                                   figsize = (15, 5), \n",
    "                                                   color = ['red', 'green'])"
   ]
  },
  {
   "cell_type": "code",
   "execution_count": 23,
   "metadata": {
    "colab": {
     "base_uri": "https://localhost:8080/",
     "height": 0
    },
    "id": "fxPvxIfSejR-",
    "outputId": "da6f6350-88e7-4fc1-849b-4c17e893fb8c"
   },
   "outputs": [
    {
     "data": {
      "text/plain": [
       "<matplotlib.legend.Legend at 0x7f5a9722f950>"
      ]
     },
     "execution_count": 23,
     "metadata": {},
     "output_type": "execute_result"
    },
    {
     "data": {
      "image/png": "[encoded data removed]",
      "text/plain": [
       "<Figure size 432x288 with 1 Axes>"
      ]
     },
     "metadata": {},
     "output_type": "display_data"
    }
   ],
   "source": [
    "# Pie Chart: Visitor Type\n",
    "labels = ['Returning_Visitor', 'New_Visitor', 'Others']\n",
    "plt.title(\"Visitor Type\")\n",
    "plt.pie(df['VisitorType'].value_counts(), labels = labels, autopct = '%.2f%%')\n",
    "plt.legend()"
   ]
  },
  {
   "cell_type": "code",
   "execution_count": 24,
   "metadata": {
    "colab": {
     "base_uri": "https://localhost:8080/",
     "height": 0
    },
    "id": "P_dO7tAKejR_",
    "outputId": "103eeb54-fed1-43eb-ab29-b4d343816ac1"
   },
   "outputs": [
    {
     "data": {
      "text/plain": [
       "<matplotlib.axes._subplots.AxesSubplot at 0x7f5a971ef450>"
      ]
     },
     "execution_count": 24,
     "metadata": {},
     "output_type": "execute_result"
    },
    {
     "data": {
      "image/png": "[encoded data removed]",
      "text/plain": [
       "<Figure size 432x288 with 1 Axes>"
      ]
     },
     "metadata": {
      "needs_background": "light"
     },
     "output_type": "display_data"
    }
   ],
   "source": [
    "# Countplot: Weekend or Not\n",
    "plt.subplot(1,2,1)\n",
    "plt.title(\"Weekend or Not\")\n",
    "sns.countplot(df['Weekend'])"
   ]
  },
  {
   "cell_type": "code",
   "execution_count": 25,
   "metadata": {
    "colab": {
     "base_uri": "https://localhost:8080/",
     "height": 0
    },
    "id": "m8fGK1SrejR_",
    "outputId": "514ecbb7-bc1e-48dc-b088-ce4d88f52b21"
   },
   "outputs": [
    {
     "data": {
      "text/plain": [
       "<matplotlib.axes._subplots.AxesSubplot at 0x7f5a97154ed0>"
      ]
     },
     "execution_count": 25,
     "metadata": {},
     "output_type": "execute_result"
    },
    {
     "data": {
      "image/png": "[encoded data removed]",
      "text/plain": [
       "<Figure size 1080x360 with 1 Axes>"
      ]
     },
     "metadata": {
      "needs_background": "light"
     },
     "output_type": "display_data"
    }
   ],
   "source": [
    "# Stacked Bar: Weekend x Revenue\n",
    "pd.crosstab(df['Weekend'], df['Revenue']).plot(kind = 'bar', \n",
    "                                               stacked = True, \n",
    "                                               figsize = (15, 5), \n",
    "                                               color = ['red', 'green'])"
   ]
  },
  {
   "cell_type": "code",
   "execution_count": 26,
   "metadata": {
    "colab": {
     "base_uri": "https://localhost:8080/",
     "height": 0
    },
    "id": "nHCoTSiWejR_",
    "outputId": "c60c91b9-0ed3-485c-fea4-31da336d4b16"
   },
   "outputs": [
    {
     "data": {
      "text/plain": [
       "<matplotlib.axes._subplots.AxesSubplot at 0x7f5a971c6990>"
      ]
     },
     "execution_count": 26,
     "metadata": {},
     "output_type": "execute_result"
    },
    {
     "data": {
      "image/png": "[encoded data removed]",
      "text/plain": [
       "<Figure size 1080x432 with 1 Axes>"
      ]
     },
     "metadata": {
      "needs_background": "light"
     },
     "output_type": "display_data"
    }
   ],
   "source": [
    "# Countplot: OS Types\n",
    "plt.figure(figsize = (15,6))\n",
    "plt.title(\"Types of Operational System\")\n",
    "plt.xlabel(\"Used Operacional Syatem\")\n",
    "sns.countplot(df['OperatingSystems'])"
   ]
  },
  {
   "cell_type": "code",
   "execution_count": 27,
   "metadata": {
    "colab": {
     "base_uri": "https://localhost:8080/",
     "height": 0
    },
    "id": "V0W-EWNkejR_",
    "outputId": "366d682c-d0af-40f8-9fa8-3123a15147d9"
   },
   "outputs": [
    {
     "data": {
      "text/plain": [
       "<matplotlib.axes._subplots.AxesSubplot at 0x7f5a97474490>"
      ]
     },
     "execution_count": 27,
     "metadata": {},
     "output_type": "execute_result"
    },
    {
     "data": {
      "image/png": "[encoded data removed]",
      "text/plain": [
       "<Figure size 1080x360 with 1 Axes>"
      ]
     },
     "metadata": {
      "needs_background": "light"
     },
     "output_type": "display_data"
    }
   ],
   "source": [
    "# Stacked Bar: SO Type x Revenue\n",
    "pd.crosstab(df['OperatingSystems'], df['Revenue']).plot(kind = 'bar', \n",
    "                                                        stacked = True, \n",
    "                                                        figsize = (15, 5), \n",
    "                                                        color = ['red', 'green'])"
   ]
  },
  {
   "cell_type": "code",
   "execution_count": 28,
   "metadata": {
    "colab": {
     "base_uri": "https://localhost:8080/",
     "height": 0
    },
    "id": "XoxiM8A3ejR_",
    "outputId": "e4702628-29ee-476f-e982-716326b52c8c"
   },
   "outputs": [
    {
     "data": {
      "text/plain": [
       "<matplotlib.axes._subplots.AxesSubplot at 0x7f5a974fd190>"
      ]
     },
     "execution_count": 28,
     "metadata": {},
     "output_type": "execute_result"
    },
    {
     "data": {
      "image/png": "[encoded data removed]",
      "text/plain": [
       "<Figure size 432x288 with 1 Axes>"
      ]
     },
     "metadata": {
      "needs_background": "light"
     },
     "output_type": "display_data"
    }
   ],
   "source": [
    "# Countplot: Traffic type\n",
    "plt.title(\"Traffic Type\")\n",
    "plt.xlabel(\"Traffic Type\")\n",
    "sns.countplot(df['TrafficType'])"
   ]
  },
  {
   "cell_type": "code",
   "execution_count": 29,
   "metadata": {
    "colab": {
     "base_uri": "https://localhost:8080/",
     "height": 0
    },
    "id": "hsjVRNvyejSA",
    "outputId": "34c9d2bc-412b-4162-df9b-91ea953637d9"
   },
   "outputs": [
    {
     "data": {
      "text/plain": [
       "<matplotlib.axes._subplots.AxesSubplot at 0x7f5aa074e990>"
      ]
     },
     "execution_count": 29,
     "metadata": {},
     "output_type": "execute_result"
    },
    {
     "data": {
      "image/png": "[encoded data removed]",
      "text/plain": [
       "<Figure size 1080x360 with 1 Axes>"
      ]
     },
     "metadata": {
      "needs_background": "light"
     },
     "output_type": "display_data"
    }
   ],
   "source": [
    "# Stacked Bar: Traffic type x Revenue\n",
    "pd.crosstab(df['TrafficType'], df['Revenue']).plot(kind = 'bar', \n",
    "                                                   stacked = True, \n",
    "                                                   figsize = (15, 5), \n",
    "                                                   color = ['red', 'green'])"
   ]
  },
  {
   "cell_type": "markdown",
   "metadata": {
    "id": "8jpeN9i4ejSA"
   },
   "source": [
    "## Pre-Processing"
   ]
  },
  {
   "cell_type": "code",
   "execution_count": 30,
   "metadata": {
    "colab": {
     "base_uri": "https://localhost:8080/",
     "height": 226
    },
    "id": "W2iVEh8LejSA",
    "outputId": "6117b31e-b1b4-4e26-db12-f2d2e2b6ad29"
   },
   "outputs": [
    {
     "data": {
      "text/html": [
       "<div>\n",
       "<style scoped>\n",
       "    .dataframe tbody tr th:only-of-type {\n",
       "        vertical-align: middle;\n",
       "    }\n",
       "\n",
       "    .dataframe tbody tr th {\n",
       "        vertical-align: top;\n",
       "    }\n",
       "\n",
       "    .dataframe thead th {\n",
       "        text-align: right;\n",
       "    }\n",
       "</style>\n",
       "<table border=\"1\" class=\"dataframe\">\n",
       "  <thead>\n",
       "    <tr style=\"text-align: right;\">\n",
       "      <th></th>\n",
       "      <th>Administrative</th>\n",
       "      <th>Administrative_Duration</th>\n",
       "      <th>Informational</th>\n",
       "      <th>Informational_Duration</th>\n",
       "      <th>ProductRelated</th>\n",
       "      <th>ProductRelated_Duration</th>\n",
       "      <th>BounceRates</th>\n",
       "      <th>ExitRates</th>\n",
       "      <th>PageValues</th>\n",
       "      <th>SpecialDay</th>\n",
       "      <th>Month</th>\n",
       "      <th>OperatingSystems</th>\n",
       "      <th>Browser</th>\n",
       "      <th>Region</th>\n",
       "      <th>TrafficType</th>\n",
       "      <th>VisitorType</th>\n",
       "      <th>Weekend</th>\n",
       "      <th>Revenue</th>\n",
       "    </tr>\n",
       "  </thead>\n",
       "  <tbody>\n",
       "    <tr>\n",
       "      <th>0</th>\n",
       "      <td>0.0</td>\n",
       "      <td>0.0</td>\n",
       "      <td>0.0</td>\n",
       "      <td>0.0</td>\n",
       "      <td>1.0</td>\n",
       "      <td>0.000000</td>\n",
       "      <td>0.20</td>\n",
       "      <td>0.20</td>\n",
       "      <td>0.0</td>\n",
       "      <td>0.0</td>\n",
       "      <td>Feb</td>\n",
       "      <td>1</td>\n",
       "      <td>1</td>\n",
       "      <td>1</td>\n",
       "      <td>1</td>\n",
       "      <td>Returning_Visitor</td>\n",
       "      <td>False</td>\n",
       "      <td>False</td>\n",
       "    </tr>\n",
       "    <tr>\n",
       "      <th>1</th>\n",
       "      <td>0.0</td>\n",
       "      <td>0.0</td>\n",
       "      <td>0.0</td>\n",
       "      <td>0.0</td>\n",
       "      <td>2.0</td>\n",
       "      <td>64.000000</td>\n",
       "      <td>0.00</td>\n",
       "      <td>0.10</td>\n",
       "      <td>0.0</td>\n",
       "      <td>0.0</td>\n",
       "      <td>Feb</td>\n",
       "      <td>2</td>\n",
       "      <td>2</td>\n",
       "      <td>1</td>\n",
       "      <td>2</td>\n",
       "      <td>Returning_Visitor</td>\n",
       "      <td>False</td>\n",
       "      <td>False</td>\n",
       "    </tr>\n",
       "    <tr>\n",
       "      <th>2</th>\n",
       "      <td>0.0</td>\n",
       "      <td>-1.0</td>\n",
       "      <td>0.0</td>\n",
       "      <td>-1.0</td>\n",
       "      <td>1.0</td>\n",
       "      <td>-1.000000</td>\n",
       "      <td>0.20</td>\n",
       "      <td>0.20</td>\n",
       "      <td>0.0</td>\n",
       "      <td>0.0</td>\n",
       "      <td>Feb</td>\n",
       "      <td>4</td>\n",
       "      <td>1</td>\n",
       "      <td>9</td>\n",
       "      <td>3</td>\n",
       "      <td>Returning_Visitor</td>\n",
       "      <td>False</td>\n",
       "      <td>False</td>\n",
       "    </tr>\n",
       "    <tr>\n",
       "      <th>3</th>\n",
       "      <td>0.0</td>\n",
       "      <td>0.0</td>\n",
       "      <td>0.0</td>\n",
       "      <td>0.0</td>\n",
       "      <td>2.0</td>\n",
       "      <td>2.666667</td>\n",
       "      <td>0.05</td>\n",
       "      <td>0.14</td>\n",
       "      <td>0.0</td>\n",
       "      <td>0.0</td>\n",
       "      <td>Feb</td>\n",
       "      <td>3</td>\n",
       "      <td>2</td>\n",
       "      <td>2</td>\n",
       "      <td>4</td>\n",
       "      <td>Returning_Visitor</td>\n",
       "      <td>False</td>\n",
       "      <td>False</td>\n",
       "    </tr>\n",
       "    <tr>\n",
       "      <th>4</th>\n",
       "      <td>0.0</td>\n",
       "      <td>0.0</td>\n",
       "      <td>0.0</td>\n",
       "      <td>0.0</td>\n",
       "      <td>10.0</td>\n",
       "      <td>627.500000</td>\n",
       "      <td>0.02</td>\n",
       "      <td>0.05</td>\n",
       "      <td>0.0</td>\n",
       "      <td>0.0</td>\n",
       "      <td>Feb</td>\n",
       "      <td>3</td>\n",
       "      <td>3</td>\n",
       "      <td>1</td>\n",
       "      <td>4</td>\n",
       "      <td>Returning_Visitor</td>\n",
       "      <td>True</td>\n",
       "      <td>False</td>\n",
       "    </tr>\n",
       "  </tbody>\n",
       "</table>\n",
       "</div>"
      ],
      "text/plain": [
       "   Administrative  Administrative_Duration  ...  Weekend  Revenue\n",
       "0             0.0                      0.0  ...    False    False\n",
       "1             0.0                      0.0  ...    False    False\n",
       "2             0.0                     -1.0  ...    False    False\n",
       "3             0.0                      0.0  ...    False    False\n",
       "4             0.0                      0.0  ...     True    False\n",
       "\n",
       "[5 rows x 18 columns]"
      ]
     },
     "execution_count": 30,
     "metadata": {},
     "output_type": "execute_result"
    }
   ],
   "source": [
    "df_original.head()"
   ]
  },
  {
   "cell_type": "code",
   "execution_count": 31,
   "metadata": {
    "id": "OTNvTlEkejSA"
   },
   "outputs": [],
   "source": [
    "# Encoder\n",
    "lb = LabelEncoder()\n",
    "\n",
    "# Apply the encoder to variables that have string\n",
    "df_original['Month'] = lb.fit_transform(df_original['Month'])\n",
    "df_original['VisitorType'] = lb.fit_transform(df_original['VisitorType'])\n",
    "\n",
    "# Removes eventually generated missing values\n",
    "df_original.dropna(inplace = True)"
   ]
  },
  {
   "cell_type": "code",
   "execution_count": 32,
   "metadata": {
    "colab": {
     "base_uri": "https://localhost:8080/",
     "height": 226
    },
    "id": "a9R8fHcKejSA",
    "outputId": "d6faabc7-8f55-460b-f5c0-5dbc994c87d9"
   },
   "outputs": [
    {
     "data": {
      "text/html": [
       "<div>\n",
       "<style scoped>\n",
       "    .dataframe tbody tr th:only-of-type {\n",
       "        vertical-align: middle;\n",
       "    }\n",
       "\n",
       "    .dataframe tbody tr th {\n",
       "        vertical-align: top;\n",
       "    }\n",
       "\n",
       "    .dataframe thead th {\n",
       "        text-align: right;\n",
       "    }\n",
       "</style>\n",
       "<table border=\"1\" class=\"dataframe\">\n",
       "  <thead>\n",
       "    <tr style=\"text-align: right;\">\n",
       "      <th></th>\n",
       "      <th>Administrative</th>\n",
       "      <th>Administrative_Duration</th>\n",
       "      <th>Informational</th>\n",
       "      <th>Informational_Duration</th>\n",
       "      <th>ProductRelated</th>\n",
       "      <th>ProductRelated_Duration</th>\n",
       "      <th>BounceRates</th>\n",
       "      <th>ExitRates</th>\n",
       "      <th>PageValues</th>\n",
       "      <th>SpecialDay</th>\n",
       "      <th>Month</th>\n",
       "      <th>OperatingSystems</th>\n",
       "      <th>Browser</th>\n",
       "      <th>Region</th>\n",
       "      <th>TrafficType</th>\n",
       "      <th>VisitorType</th>\n",
       "      <th>Weekend</th>\n",
       "      <th>Revenue</th>\n",
       "    </tr>\n",
       "  </thead>\n",
       "  <tbody>\n",
       "    <tr>\n",
       "      <th>0</th>\n",
       "      <td>0.0</td>\n",
       "      <td>0.0</td>\n",
       "      <td>0.0</td>\n",
       "      <td>0.0</td>\n",
       "      <td>1.0</td>\n",
       "      <td>0.000000</td>\n",
       "      <td>0.20</td>\n",
       "      <td>0.20</td>\n",
       "      <td>0.0</td>\n",
       "      <td>0.0</td>\n",
       "      <td>2</td>\n",
       "      <td>1</td>\n",
       "      <td>1</td>\n",
       "      <td>1</td>\n",
       "      <td>1</td>\n",
       "      <td>2</td>\n",
       "      <td>False</td>\n",
       "      <td>False</td>\n",
       "    </tr>\n",
       "    <tr>\n",
       "      <th>1</th>\n",
       "      <td>0.0</td>\n",
       "      <td>0.0</td>\n",
       "      <td>0.0</td>\n",
       "      <td>0.0</td>\n",
       "      <td>2.0</td>\n",
       "      <td>64.000000</td>\n",
       "      <td>0.00</td>\n",
       "      <td>0.10</td>\n",
       "      <td>0.0</td>\n",
       "      <td>0.0</td>\n",
       "      <td>2</td>\n",
       "      <td>2</td>\n",
       "      <td>2</td>\n",
       "      <td>1</td>\n",
       "      <td>2</td>\n",
       "      <td>2</td>\n",
       "      <td>False</td>\n",
       "      <td>False</td>\n",
       "    </tr>\n",
       "    <tr>\n",
       "      <th>2</th>\n",
       "      <td>0.0</td>\n",
       "      <td>-1.0</td>\n",
       "      <td>0.0</td>\n",
       "      <td>-1.0</td>\n",
       "      <td>1.0</td>\n",
       "      <td>-1.000000</td>\n",
       "      <td>0.20</td>\n",
       "      <td>0.20</td>\n",
       "      <td>0.0</td>\n",
       "      <td>0.0</td>\n",
       "      <td>2</td>\n",
       "      <td>4</td>\n",
       "      <td>1</td>\n",
       "      <td>9</td>\n",
       "      <td>3</td>\n",
       "      <td>2</td>\n",
       "      <td>False</td>\n",
       "      <td>False</td>\n",
       "    </tr>\n",
       "    <tr>\n",
       "      <th>3</th>\n",
       "      <td>0.0</td>\n",
       "      <td>0.0</td>\n",
       "      <td>0.0</td>\n",
       "      <td>0.0</td>\n",
       "      <td>2.0</td>\n",
       "      <td>2.666667</td>\n",
       "      <td>0.05</td>\n",
       "      <td>0.14</td>\n",
       "      <td>0.0</td>\n",
       "      <td>0.0</td>\n",
       "      <td>2</td>\n",
       "      <td>3</td>\n",
       "      <td>2</td>\n",
       "      <td>2</td>\n",
       "      <td>4</td>\n",
       "      <td>2</td>\n",
       "      <td>False</td>\n",
       "      <td>False</td>\n",
       "    </tr>\n",
       "    <tr>\n",
       "      <th>4</th>\n",
       "      <td>0.0</td>\n",
       "      <td>0.0</td>\n",
       "      <td>0.0</td>\n",
       "      <td>0.0</td>\n",
       "      <td>10.0</td>\n",
       "      <td>627.500000</td>\n",
       "      <td>0.02</td>\n",
       "      <td>0.05</td>\n",
       "      <td>0.0</td>\n",
       "      <td>0.0</td>\n",
       "      <td>2</td>\n",
       "      <td>3</td>\n",
       "      <td>3</td>\n",
       "      <td>1</td>\n",
       "      <td>4</td>\n",
       "      <td>2</td>\n",
       "      <td>True</td>\n",
       "      <td>False</td>\n",
       "    </tr>\n",
       "  </tbody>\n",
       "</table>\n",
       "</div>"
      ],
      "text/plain": [
       "   Administrative  Administrative_Duration  ...  Weekend  Revenue\n",
       "0             0.0                      0.0  ...    False    False\n",
       "1             0.0                      0.0  ...    False    False\n",
       "2             0.0                     -1.0  ...    False    False\n",
       "3             0.0                      0.0  ...    False    False\n",
       "4             0.0                      0.0  ...     True    False\n",
       "\n",
       "[5 rows x 18 columns]"
      ]
     },
     "execution_count": 32,
     "metadata": {},
     "output_type": "execute_result"
    }
   ],
   "source": [
    "df_original.head()"
   ]
  },
  {
   "cell_type": "code",
   "execution_count": 33,
   "metadata": {
    "colab": {
     "base_uri": "https://localhost:8080/"
    },
    "id": "Lpi-zsWlejSA",
    "outputId": "ee2c9671-da38-4ddf-a0e1-1fb755790664"
   },
   "outputs": [
    {
     "data": {
      "text/plain": [
       "(12316, 18)"
      ]
     },
     "execution_count": 33,
     "metadata": {},
     "output_type": "execute_result"
    }
   ],
   "source": [
    "# Shape\n",
    "df_original.shape"
   ]
  },
  {
   "cell_type": "code",
   "execution_count": 34,
   "metadata": {
    "colab": {
     "base_uri": "https://localhost:8080/"
    },
    "id": "0g5_9p3TejSB",
    "outputId": "a4d0d041-e92f-413b-d147-fbea25611cea"
   },
   "outputs": [
    {
     "data": {
      "text/plain": [
       "False    10408\n",
       "True      1908\n",
       "Name: Revenue, dtype: int64"
      ]
     },
     "execution_count": 34,
     "metadata": {},
     "output_type": "execute_result"
    }
   ],
   "source": [
    "# Checking if the response variable is balanced\n",
    "target_count = df_original.Revenue.value_counts()\n",
    "target_count"
   ]
  },
  {
   "cell_type": "code",
   "execution_count": 35,
   "metadata": {
    "colab": {
     "base_uri": "https://localhost:8080/",
     "height": 226
    },
    "id": "cc4LMsv1ejSB",
    "outputId": "bcf7cae0-fd10-4fff-c17d-33d9bc096137"
   },
   "outputs": [
    {
     "data": {
      "text/html": [
       "<div>\n",
       "<style scoped>\n",
       "    .dataframe tbody tr th:only-of-type {\n",
       "        vertical-align: middle;\n",
       "    }\n",
       "\n",
       "    .dataframe tbody tr th {\n",
       "        vertical-align: top;\n",
       "    }\n",
       "\n",
       "    .dataframe thead th {\n",
       "        text-align: right;\n",
       "    }\n",
       "</style>\n",
       "<table border=\"1\" class=\"dataframe\">\n",
       "  <thead>\n",
       "    <tr style=\"text-align: right;\">\n",
       "      <th></th>\n",
       "      <th>Administrative</th>\n",
       "      <th>Administrative_Duration</th>\n",
       "      <th>Informational</th>\n",
       "      <th>Informational_Duration</th>\n",
       "      <th>ProductRelated</th>\n",
       "      <th>ProductRelated_Duration</th>\n",
       "      <th>BounceRates</th>\n",
       "      <th>ExitRates</th>\n",
       "      <th>PageValues</th>\n",
       "      <th>SpecialDay</th>\n",
       "      <th>Month</th>\n",
       "      <th>OperatingSystems</th>\n",
       "      <th>Browser</th>\n",
       "      <th>Region</th>\n",
       "      <th>TrafficType</th>\n",
       "      <th>VisitorType</th>\n",
       "      <th>Weekend</th>\n",
       "    </tr>\n",
       "  </thead>\n",
       "  <tbody>\n",
       "    <tr>\n",
       "      <th>0</th>\n",
       "      <td>0.0</td>\n",
       "      <td>0.0</td>\n",
       "      <td>0.0</td>\n",
       "      <td>0.0</td>\n",
       "      <td>1.0</td>\n",
       "      <td>0.000000</td>\n",
       "      <td>0.20</td>\n",
       "      <td>0.20</td>\n",
       "      <td>0.0</td>\n",
       "      <td>0.0</td>\n",
       "      <td>2</td>\n",
       "      <td>1</td>\n",
       "      <td>1</td>\n",
       "      <td>1</td>\n",
       "      <td>1</td>\n",
       "      <td>2</td>\n",
       "      <td>False</td>\n",
       "    </tr>\n",
       "    <tr>\n",
       "      <th>1</th>\n",
       "      <td>0.0</td>\n",
       "      <td>0.0</td>\n",
       "      <td>0.0</td>\n",
       "      <td>0.0</td>\n",
       "      <td>2.0</td>\n",
       "      <td>64.000000</td>\n",
       "      <td>0.00</td>\n",
       "      <td>0.10</td>\n",
       "      <td>0.0</td>\n",
       "      <td>0.0</td>\n",
       "      <td>2</td>\n",
       "      <td>2</td>\n",
       "      <td>2</td>\n",
       "      <td>1</td>\n",
       "      <td>2</td>\n",
       "      <td>2</td>\n",
       "      <td>False</td>\n",
       "    </tr>\n",
       "    <tr>\n",
       "      <th>2</th>\n",
       "      <td>0.0</td>\n",
       "      <td>-1.0</td>\n",
       "      <td>0.0</td>\n",
       "      <td>-1.0</td>\n",
       "      <td>1.0</td>\n",
       "      <td>-1.000000</td>\n",
       "      <td>0.20</td>\n",
       "      <td>0.20</td>\n",
       "      <td>0.0</td>\n",
       "      <td>0.0</td>\n",
       "      <td>2</td>\n",
       "      <td>4</td>\n",
       "      <td>1</td>\n",
       "      <td>9</td>\n",
       "      <td>3</td>\n",
       "      <td>2</td>\n",
       "      <td>False</td>\n",
       "    </tr>\n",
       "    <tr>\n",
       "      <th>3</th>\n",
       "      <td>0.0</td>\n",
       "      <td>0.0</td>\n",
       "      <td>0.0</td>\n",
       "      <td>0.0</td>\n",
       "      <td>2.0</td>\n",
       "      <td>2.666667</td>\n",
       "      <td>0.05</td>\n",
       "      <td>0.14</td>\n",
       "      <td>0.0</td>\n",
       "      <td>0.0</td>\n",
       "      <td>2</td>\n",
       "      <td>3</td>\n",
       "      <td>2</td>\n",
       "      <td>2</td>\n",
       "      <td>4</td>\n",
       "      <td>2</td>\n",
       "      <td>False</td>\n",
       "    </tr>\n",
       "    <tr>\n",
       "      <th>4</th>\n",
       "      <td>0.0</td>\n",
       "      <td>0.0</td>\n",
       "      <td>0.0</td>\n",
       "      <td>0.0</td>\n",
       "      <td>10.0</td>\n",
       "      <td>627.500000</td>\n",
       "      <td>0.02</td>\n",
       "      <td>0.05</td>\n",
       "      <td>0.0</td>\n",
       "      <td>0.0</td>\n",
       "      <td>2</td>\n",
       "      <td>3</td>\n",
       "      <td>3</td>\n",
       "      <td>1</td>\n",
       "      <td>4</td>\n",
       "      <td>2</td>\n",
       "      <td>True</td>\n",
       "    </tr>\n",
       "  </tbody>\n",
       "</table>\n",
       "</div>"
      ],
      "text/plain": [
       "   Administrative  Administrative_Duration  ...  VisitorType  Weekend\n",
       "0             0.0                      0.0  ...            2    False\n",
       "1             0.0                      0.0  ...            2    False\n",
       "2             0.0                     -1.0  ...            2    False\n",
       "3             0.0                      0.0  ...            2    False\n",
       "4             0.0                      0.0  ...            2     True\n",
       "\n",
       "[5 rows x 17 columns]"
      ]
     },
     "execution_count": 35,
     "metadata": {},
     "output_type": "execute_result"
    }
   ],
   "source": [
    "# Explanatory variables\n",
    "df_original.iloc[:, 0:17].head()"
   ]
  },
  {
   "cell_type": "code",
   "execution_count": 36,
   "metadata": {
    "colab": {
     "base_uri": "https://localhost:8080/"
    },
    "id": "OHpSV_bCejSB",
    "outputId": "dc234595-6be9-4cea-b464-a2b4e2091654"
   },
   "outputs": [
    {
     "data": {
      "text/plain": [
       "0    False\n",
       "1    False\n",
       "2    False\n",
       "3    False\n",
       "4    False\n",
       "Name: Revenue, dtype: bool"
      ]
     },
     "execution_count": 36,
     "metadata": {},
     "output_type": "execute_result"
    }
   ],
   "source": [
    "# Target\n",
    "df_original.iloc[:, 17].head()"
   ]
  },
  {
   "cell_type": "code",
   "execution_count": 37,
   "metadata": {
    "colab": {
     "base_uri": "https://localhost:8080/",
     "height": 322
    },
    "id": "FT13oL-UejSB",
    "outputId": "10ef6861-4491-422f-b3d5-94addcd7c11c"
   },
   "outputs": [
    {
     "data": {
      "image/png": "[encoded data removed]",
      "text/plain": [
       "<Figure size 432x288 with 1 Axes>"
      ]
     },
     "metadata": {
      "needs_background": "light"
     },
     "output_type": "display_data"
    }
   ],
   "source": [
    "# Plot \n",
    "sns.countplot(df_original.Revenue, palette = \"OrRd\")\n",
    "plt.box(False)\n",
    "plt.xlabel('Revenue per session  No (0) / Yes (1) \\n', fontsize = 11)\n",
    "plt.ylabel('Total Session', fontsize = 11)\n",
    "plt.title('Class Count \\n')\n",
    "plt.show()"
   ]
  },
  {
   "cell_type": "markdown",
   "metadata": {
    "id": "O5T0TQqfejSC"
   },
   "source": [
    "## Oversampling"
   ]
  },
  {
   "cell_type": "code",
   "execution_count": 38,
   "metadata": {
    "id": "AmMgoSEqejSC"
   },
   "outputs": [],
   "source": [
    "# Seed if you want to reproduce the same result\n",
    "seed = 100\n",
    "\n",
    "# X e y\n",
    "X = df_original.iloc[:, 0:17]  \n",
    "y = df_original.iloc[:, 17] \n",
    "\n",
    "# SMOTE\n",
    "smote = SMOTE(random_state = seed)\n",
    "\n",
    "# Applying SMOTE\n",
    "X_res, y_res = smote.fit_resample(X, y)"
   ]
  },
  {
   "cell_type": "code",
   "execution_count": 39,
   "metadata": {
    "colab": {
     "base_uri": "https://localhost:8080/",
     "height": 322
    },
    "id": "UbLtoRP-ejSC",
    "outputId": "b410bcb1-997a-46be-e395-16263945bc7c"
   },
   "outputs": [
    {
     "data": {
      "image/png": "[encoded data removed]",
      "text/plain": [
       "<Figure size 432x288 with 1 Axes>"
      ]
     },
     "metadata": {
      "needs_background": "light"
     },
     "output_type": "display_data"
    }
   ],
   "source": [
    "# Plot \n",
    "sns.countplot(y_res, palette = \"OrRd\")\n",
    "plt.box(False)\n",
    "plt.xlabel('Revenue per session  No (0) / Yes (1) \\n', fontsize = 11)\n",
    "plt.ylabel('Total Session', fontsize = 11)\n",
    "plt.title('Class Count \\n')\n",
    "plt.show()"
   ]
  },
  {
   "cell_type": "code",
   "execution_count": 40,
   "metadata": {
    "colab": {
     "base_uri": "https://localhost:8080/"
    },
    "id": "8hixICqfejSC",
    "outputId": "7aedacda-2596-4d76-ae7e-e848dcc164b9"
   },
   "outputs": [
    {
     "data": {
      "text/plain": [
       "(12316, 18)"
      ]
     },
     "execution_count": 40,
     "metadata": {},
     "output_type": "execute_result"
    }
   ],
   "source": [
    "# Original data shape\n",
    "df_original.shape"
   ]
  },
  {
   "cell_type": "code",
   "execution_count": 41,
   "metadata": {
    "colab": {
     "base_uri": "https://localhost:8080/"
    },
    "id": "jWVqG1B-ejSC",
    "outputId": "8be82a47-1604-4abb-8061-5a3a3d99f329"
   },
   "outputs": [
    {
     "name": "stdout",
     "output_type": "stream",
     "text": [
      "X: (20816, 17) and Y: (20816,)\n"
     ]
    }
   ],
   "source": [
    "# Shape of resampled data\n",
    "print('X:',X_res.shape, 'and', 'Y:',y_res.shape)"
   ]
  },
  {
   "cell_type": "code",
   "execution_count": 42,
   "metadata": {
    "id": "xyQUL-_aejSC"
   },
   "outputs": [],
   "source": [
    "# Resampling X e y\n",
    "X = X_res\n",
    "y = y_res"
   ]
  },
  {
   "cell_type": "code",
   "execution_count": 43,
   "metadata": {
    "id": "d8G0sqjHejSD"
   },
   "outputs": [],
   "source": [
    "# Division into Training and Testing Data\n",
    "X_train, X_test, y_train, y_test = train_test_split(X, y, test_size = 0.3, random_state = 42)"
   ]
  },
  {
   "cell_type": "markdown",
   "metadata": {
    "id": "Y96UHTw5ejSD"
   },
   "source": [
    "## Model SVM"
   ]
  },
  {
   "cell_type": "markdown",
   "metadata": {
    "id": "tAGzwhMJejSD"
   },
   "source": [
    "### Base Model with Linear Kernel"
   ]
  },
  {
   "cell_type": "code",
   "execution_count": 44,
   "metadata": {
    "id": "UTTo0jOeejSD"
   },
   "outputs": [],
   "source": [
    "# Model V1\n",
    "model_v1 = svm.SVC(kernel = 'linear')"
   ]
  },
  {
   "cell_type": "code",
   "execution_count": 45,
   "metadata": {
    "colab": {
     "base_uri": "https://localhost:8080/"
    },
    "id": "HLkBUq6nejSD",
    "outputId": "11f7ce11-55eb-4862-f9c5-8adb33a9f76d"
   },
   "outputs": [
    {
     "name": "stdout",
     "output_type": "stream",
     "text": [
      "Model Training Time: 5043.391777276993\n"
     ]
    }
   ],
   "source": [
    "# Training\n",
    "start = time.time()\n",
    "model_v1.fit(X_train, y_train)\n",
    "end = time.time()\n",
    "print('Model Training Time:', end - start)"
   ]
  },
  {
   "cell_type": "code",
   "execution_count": 46,
   "metadata": {
    "id": "qMUTdbssejSD"
   },
   "outputs": [],
   "source": [
    "# Prediction\n",
    "pred_v1 = model_v1.predict(X_test)"
   ]
  },
  {
   "cell_type": "code",
   "execution_count": 47,
   "metadata": {
    "colab": {
     "base_uri": "https://localhost:8080/"
    },
    "id": "tJkkG9pAejSD",
    "outputId": "9389a7cc-eecb-4835-a542-f14ff4f05f4d"
   },
   "outputs": [
    {
     "name": "stdout",
     "output_type": "stream",
     "text": [
      "Test Metrics:\n",
      "\n"
     ]
    },
    {
     "data": {
      "text/plain": [
       "{'AUC': 0.8183674151831123,\n",
       " 'Accuracy': 0.8188951160928744,\n",
       " 'F1 Score': 0.8288179203874679,\n",
       " 'Kernel': 'Linear',\n",
       " 'Model': 'SVM',\n",
       " 'Precision': 0.867553865652725,\n",
       " 'Recall': 0.7933932193567081,\n",
       " 'Version': '1'}"
      ]
     },
     "execution_count": 47,
     "metadata": {},
     "output_type": "execute_result"
    }
   ],
   "source": [
    "# Metrics and Metadata Dictionary\n",
    "SVM_dict_v1 = {'Model':'SVM',\n",
    "               'Version':'1',\n",
    "               'Kernel':'Linear',\n",
    "               'Precision':precision_score(pred_v1, y_test),\n",
    "               'Recall':recall_score(pred_v1, y_test),\n",
    "               'F1 Score':f1_score(pred_v1, y_test),\n",
    "               'Accuracy':accuracy_score(pred_v1, y_test),\n",
    "               'AUC':roc_auc_score(y_test, pred_v1)}\n",
    "\n",
    "print(\"Test Metrics:\\n\")\n",
    "SVM_dict_v1"
   ]
  },
  {
   "cell_type": "markdown",
   "metadata": {
    "id": "Lsmgj0PsejSD"
   },
   "source": [
    "### Model with Linear Kernel and Standardized Data (Scaled)\n"
   ]
  },
  {
   "cell_type": "code",
   "execution_count": 48,
   "metadata": {
    "id": "-newBYTRejSE"
   },
   "outputs": [],
   "source": [
    "# Standardization\n",
    "sc = StandardScaler()\n",
    "X_train_scaled = sc.fit_transform(X_train)\n",
    "X_test_scaled = sc.transform(X_test)"
   ]
  },
  {
   "cell_type": "code",
   "execution_count": 49,
   "metadata": {
    "colab": {
     "base_uri": "https://localhost:8080/"
    },
    "id": "Oe1VKz6IejSE",
    "outputId": "869db706-0ed1-4908-9730-8708a8a146cf"
   },
   "outputs": [
    {
     "data": {
      "text/plain": [
       "array([[ 0.67023596,  0.00746589, -0.4556655 , ..., -0.53949506,\n",
       "         0.50272056, -0.61724352],\n",
       "       [-0.71405441, -0.53155654, -0.4556655 , ..., -0.63423384,\n",
       "         0.50272056,  1.07873787],\n",
       "       [ 0.9117153 , -0.18078072, -0.4556655 , ...,  0.60628434,\n",
       "         0.50272056,  0.40567107],\n",
       "       ...,\n",
       "       [-0.21784301,  0.00977669,  1.83111142, ..., -0.53949506,\n",
       "         0.50272056, -0.61724352],\n",
       "       [-0.80989566, -0.53903796, -0.4556655 , ..., -0.53949506,\n",
       "        -2.36099001, -0.61724352],\n",
       "       [-0.37088559, -0.29288262,  0.58272764, ..., -0.53949506,\n",
       "         0.15692018, -0.61724352]])"
      ]
     },
     "execution_count": 49,
     "metadata": {},
     "output_type": "execute_result"
    }
   ],
   "source": [
    "X_train_scaled"
   ]
  },
  {
   "cell_type": "code",
   "execution_count": 50,
   "metadata": {
    "colab": {
     "base_uri": "https://localhost:8080/"
    },
    "id": "B38SxIv1ejSE",
    "outputId": "b06db33c-b61e-4410-f780-7e9f1b2b1791"
   },
   "outputs": [
    {
     "data": {
      "text/plain": [
       "array([[-0.74974984, -0.52847418, -0.4556655 , ...,  0.69089923,\n",
       "        -1.77914913,  1.38115197],\n",
       "       [-0.80989566, -0.53903796, -0.4556655 , ..., -0.80827161,\n",
       "         0.50272056,  1.8907114 ],\n",
       "       [-0.80989566, -0.53903796, -0.4556655 , ..., -0.80827161,\n",
       "         0.50272056,  1.8907114 ],\n",
       "       ...,\n",
       "       [-0.80989566, -0.53903796, -0.4556655 , ...,  0.53561113,\n",
       "         0.50272056, -0.61724352],\n",
       "       [ 1.03373541,  1.74922518, -0.4556655 , ..., -0.42948218,\n",
       "         0.50272056,  0.8641808 ],\n",
       "       [ 0.3044991 , -0.28747987,  1.09682136, ..., -0.36359803,\n",
       "         0.50272056, -0.61724352]])"
      ]
     },
     "execution_count": 50,
     "metadata": {},
     "output_type": "execute_result"
    }
   ],
   "source": [
    "X_test_scaled"
   ]
  },
  {
   "cell_type": "code",
   "execution_count": 51,
   "metadata": {
    "id": "XovP78NsejSE"
   },
   "outputs": [],
   "source": [
    "# Model V2\n",
    "model_v2 = svm.SVC(kernel = 'linear')"
   ]
  },
  {
   "cell_type": "code",
   "execution_count": 52,
   "metadata": {
    "colab": {
     "base_uri": "https://localhost:8080/"
    },
    "id": "uSG9jV8_ejSE",
    "outputId": "d8dc9b60-c5ca-452b-8449-0cc6b01fb3b4"
   },
   "outputs": [
    {
     "name": "stdout",
     "output_type": "stream",
     "text": [
      "Model Training Time: 8.17955231666565\n"
     ]
    }
   ],
   "source": [
    "# Training\n",
    "start = time.time()\n",
    "model_v2.fit(X_train_scaled, y_train)\n",
    "end = time.time()\n",
    "print('Model Training Time:', end - start)"
   ]
  },
  {
   "cell_type": "code",
   "execution_count": 53,
   "metadata": {
    "id": "AGoS-tYhejSE"
   },
   "outputs": [],
   "source": [
    "# Prediction\n",
    "pred_v2 = model_v2.predict(X_test_scaled)"
   ]
  },
  {
   "cell_type": "code",
   "execution_count": 54,
   "metadata": {
    "colab": {
     "base_uri": "https://localhost:8080/"
    },
    "id": "lc6x1rkNejSE",
    "outputId": "f0ec3c10-0263-41aa-8dfd-cfc493959a23"
   },
   "outputs": [
    {
     "name": "stdout",
     "output_type": "stream",
     "text": [
      "Test Metrics:\n",
      "\n"
     ]
    },
    {
     "data": {
      "text/plain": [
       "{'AUC': 0.8375477644415504,\n",
       " 'Accuracy': 0.8368294635708566,\n",
       " 'F1 Score': 0.8267890532041475,\n",
       " 'Kernel': 'Linear with Standardized Data',\n",
       " 'Model': 'SVM',\n",
       " 'Precision': 0.770595690747782,\n",
       " 'Recall': 0.8918225155848918,\n",
       " 'Version': '2'}"
      ]
     },
     "execution_count": 54,
     "metadata": {},
     "output_type": "execute_result"
    }
   ],
   "source": [
    "# Metrics and Metadata Dictionary\n",
    "SVM_dict_v2 = {'Model':'SVM',\n",
    "               'Version':'2',\n",
    "               'Kernel':'Linear with Standardized Data',\n",
    "               'Precision':precision_score(pred_v2, y_test),\n",
    "               'Recall':recall_score(pred_v2, y_test),\n",
    "               'F1 Score':f1_score(pred_v2, y_test),\n",
    "               'Accuracy':accuracy_score(pred_v2, y_test),\n",
    "               'AUC':roc_auc_score(y_test, pred_v2)}\n",
    "\n",
    "print(\"Test Metrics:\\n\")\n",
    "SVM_dict_v2"
   ]
  },
  {
   "cell_type": "markdown",
   "metadata": {
    "id": "5wZC3LeiejSF"
   },
   "source": [
    "### Hyperparameter Optimization with Grid Search and RBF Kernel"
   ]
  },
  {
   "cell_type": "code",
   "execution_count": 55,
   "metadata": {
    "colab": {
     "base_uri": "https://localhost:8080/"
    },
    "id": "dt2sYYjhejSF",
    "outputId": "fbd60f38-42b0-4317-9fc9-3d31c57830b3"
   },
   "outputs": [
    {
     "name": "stdout",
     "output_type": "stream",
     "text": [
      "Model Training Time with Grid Search: 4351.703152656555\n",
      "Training Accuracy: 91.43%\n",
      "\n",
      "Ideal Hyperparameters: {'C': 55.0, 'coef0': 0.5, 'degree': 2.0, 'gamma': 0.15}\n"
     ]
    }
   ],
   "source": [
    "# Model V3\n",
    "model_v3 = svm.SVC(kernel = 'rbf')\n",
    "\n",
    "# Values for the grid\n",
    "C_range = np.array([45., 50., 55.,  100., 200., 300.])\n",
    "gamma_range = np.array([0.001, 0.01, 0.1, 0.15, 1])\n",
    "d_range2 = np.array([2, 2.5, 4])\n",
    "r_range2 =  np.array([0.5, 1])\n",
    "\n",
    "# Hyperparameter Grid\n",
    "svm_param_grid = dict(gamma = gamma_range, C = C_range, degree = d_range2, coef0 = r_range2)\n",
    "\n",
    "# Grid Search\n",
    "start = time.time()\n",
    "model_v3_grid_search_rbf = GridSearchCV(model_v3, svm_param_grid, cv = 4)\n",
    "\n",
    "# Training\n",
    "model_v3_grid_search_rbf.fit(X_train_scaled, y_train)\n",
    "end = time.time()\n",
    "print('Model Training Time with Grid Search:', end - start)\n",
    "\n",
    "# Training Accuracy\n",
    "print(f\"Training Accuracy: {model_v3_grid_search_rbf.best_score_ :.2%}\")\n",
    "print(\"\")\n",
    "print(f\"Ideal Hyperparameters: {model_v3_grid_search_rbf.best_params_}\")"
   ]
  },
  {
   "cell_type": "code",
   "execution_count": 56,
   "metadata": {
    "id": "n2Qewx6bejSF"
   },
   "outputs": [],
   "source": [
    "# Prediction\n",
    "pred_v3 = model_v3_grid_search_rbf.predict(X_test_scaled)"
   ]
  },
  {
   "cell_type": "code",
   "execution_count": 57,
   "metadata": {
    "colab": {
     "base_uri": "https://localhost:8080/"
    },
    "id": "_Hek0j9PejSF",
    "outputId": "625d5293-165a-4398-8c31-a60288914563"
   },
   "outputs": [
    {
     "name": "stdout",
     "output_type": "stream",
     "text": [
      "Test Metrics:\n",
      "\n"
     ]
    },
    {
     "data": {
      "text/plain": [
       "{'AUC': 0.9185012356286115,\n",
       " 'Accuracy': 0.9186549239391513,\n",
       " 'F1 Score': 0.9205753595997498,\n",
       " 'Kernel': 'RBF com Dados Padronizados',\n",
       " 'Model': 'SVM',\n",
       " 'Precision': 0.9328263624841572,\n",
       " 'Recall': 0.908641975308642,\n",
       " 'Version': '3'}"
      ]
     },
     "execution_count": 57,
     "metadata": {},
     "output_type": "execute_result"
    }
   ],
   "source": [
    "# Metrics and Metadata Dictionary\n",
    "SVM_dict_v3 = {'Model':'SVM',\n",
    "               'Version':'3',\n",
    "               'Kernel':'RBF com Dados Padronizados',\n",
    "               'Precision':precision_score(pred_v3, y_test),\n",
    "               'Recall':recall_score(pred_v3, y_test),\n",
    "               'F1 Score':f1_score(pred_v3, y_test),\n",
    "               'Accuracy':accuracy_score(pred_v3, y_test),\n",
    "               'AUC':roc_auc_score(y_test, pred_v3)}\n",
    "\n",
    "print(\"Test Metrics:\\n\")\n",
    "SVM_dict_v3"
   ]
  },
  {
   "cell_type": "markdown",
   "metadata": {
    "id": "Lrsxa9l4ejSF"
   },
   "source": [
    "### Hyperparameter Optimization with Grid Search and Polynomial Kernel\n"
   ]
  },
  {
   "cell_type": "code",
   "execution_count": 58,
   "metadata": {
    "colab": {
     "base_uri": "https://localhost:8080/"
    },
    "id": "EANTEImaejSG",
    "outputId": "dba8027e-f118-472c-aa4f-480bd10dbb7e"
   },
   "outputs": [
    {
     "name": "stdout",
     "output_type": "stream",
     "text": [
      "Model Training Time with Grid Search: 82.28271079063416\n",
      "Training Accuracy: 86.43%\n",
      "\n",
      "Ideal Hyperparameters: {'coef0': 1.0, 'degree': 4, 'gamma': 0.01}\n"
     ]
    }
   ],
   "source": [
    "# Model V4\n",
    "model_v4 = svm.SVC(kernel = 'poly')\n",
    "\n",
    "# Values for the grid\n",
    "r_range =  np.array([0.5, 1])\n",
    "gamma_range =  np.array([0.001, 0.01])\n",
    "d_range = np.array([2, 3, 4])\n",
    "\n",
    "# Hyperparameter Grid\n",
    "param_grid_poly = dict(gamma = gamma_range, degree = d_range, coef0 = r_range)\n",
    "\n",
    "# Grid Search\n",
    "start = time.time()\n",
    "model_v4_grid_search_poly = GridSearchCV(model_v4, param_grid_poly, cv = 3)\n",
    "\n",
    "# Training\n",
    "model_v4_grid_search_poly.fit(X_train_scaled, y_train)\n",
    "end = time.time()\n",
    "print('Model Training Time with Grid Search:', end - start)\n",
    "\n",
    "# Training Accuracy\n",
    "print(f\"Training Accuracy: {model_v4_grid_search_poly.best_score_ :.2%}\")\n",
    "print(\"\")\n",
    "print(f\"Ideal Hyperparameters: {model_v4_grid_search_poly.best_params_}\")"
   ]
  },
  {
   "cell_type": "code",
   "execution_count": 59,
   "metadata": {
    "id": "tstADuW-ejSG"
   },
   "outputs": [],
   "source": [
    "# Prediction\n",
    "pred_v4 = model_v4_grid_search_poly.predict(X_test_scaled)"
   ]
  },
  {
   "cell_type": "code",
   "execution_count": 60,
   "metadata": {
    "colab": {
     "base_uri": "https://localhost:8080/"
    },
    "id": "GIElLrMMejSG",
    "outputId": "79dbd3a7-d0ec-40bb-c264-909d71895e46"
   },
   "outputs": [
    {
     "name": "stdout",
     "output_type": "stream",
     "text": [
      "Test Metrics:\n",
      "\n"
     ]
    },
    {
     "data": {
      "text/plain": [
       "{'AUC': 0.8630341175461725,\n",
       " 'Accuracy': 0.8626100880704564,\n",
       " 'F1 Score': 0.8583223249669749,\n",
       " 'Kernel': 'Polynomial with Standardized Data',\n",
       " 'Model': 'SVM',\n",
       " 'Precision': 0.823510773130545,\n",
       " 'Recall': 0.8962068965517241,\n",
       " 'Version': '4'}"
      ]
     },
     "execution_count": 60,
     "metadata": {},
     "output_type": "execute_result"
    }
   ],
   "source": [
    "# Metrics and Metadata Dictionary\n",
    "SVM_dict_v4 = {'Model':'SVM',\n",
    "               'Version':'4',\n",
    "               'Kernel':'Polynomial with Standardized Data',\n",
    "               'Precision':precision_score(pred_v4, y_test),\n",
    "               'Recall':recall_score(pred_v4, y_test),\n",
    "               'F1 Score':f1_score(pred_v4, y_test),\n",
    "               'Accuracy':accuracy_score(pred_v4, y_test),\n",
    "               'AUC':roc_auc_score(y_test, pred_v4)}\n",
    "\n",
    "print(\"Test Metrics:\\n\")\n",
    "SVM_dict_v4"
   ]
  },
  {
   "cell_type": "code",
   "execution_count": 61,
   "metadata": {
    "colab": {
     "base_uri": "https://localhost:8080/",
     "height": 300
    },
    "id": "AowGX-ooejSG",
    "outputId": "4cd1e320-65fa-4b3b-cc49-e53214082389"
   },
   "outputs": [
    {
     "data": {
      "text/html": [
       "<div>\n",
       "<style scoped>\n",
       "    .dataframe tbody tr th:only-of-type {\n",
       "        vertical-align: middle;\n",
       "    }\n",
       "\n",
       "    .dataframe tbody tr th {\n",
       "        vertical-align: top;\n",
       "    }\n",
       "\n",
       "    .dataframe thead th {\n",
       "        text-align: right;\n",
       "    }\n",
       "</style>\n",
       "<table border=\"1\" class=\"dataframe\">\n",
       "  <thead>\n",
       "    <tr style=\"text-align: right;\">\n",
       "      <th></th>\n",
       "      <th>SVM_dict_v1</th>\n",
       "      <th>SVM_dict_v2</th>\n",
       "      <th>SVM_dict_v3</th>\n",
       "      <th>SVM_dict_v4</th>\n",
       "    </tr>\n",
       "  </thead>\n",
       "  <tbody>\n",
       "    <tr>\n",
       "      <th>Model</th>\n",
       "      <td>SVM</td>\n",
       "      <td>SVM</td>\n",
       "      <td>SVM</td>\n",
       "      <td>SVM</td>\n",
       "    </tr>\n",
       "    <tr>\n",
       "      <th>Version</th>\n",
       "      <td>1</td>\n",
       "      <td>2</td>\n",
       "      <td>3</td>\n",
       "      <td>4</td>\n",
       "    </tr>\n",
       "    <tr>\n",
       "      <th>Kernel</th>\n",
       "      <td>Linear</td>\n",
       "      <td>Linear with Standardized Data</td>\n",
       "      <td>RBF com Dados Padronizados</td>\n",
       "      <td>Polynomial with Standardized Data</td>\n",
       "    </tr>\n",
       "    <tr>\n",
       "      <th>Precision</th>\n",
       "      <td>0.867554</td>\n",
       "      <td>0.770596</td>\n",
       "      <td>0.932826</td>\n",
       "      <td>0.823511</td>\n",
       "    </tr>\n",
       "    <tr>\n",
       "      <th>Recall</th>\n",
       "      <td>0.793393</td>\n",
       "      <td>0.891823</td>\n",
       "      <td>0.908642</td>\n",
       "      <td>0.896207</td>\n",
       "    </tr>\n",
       "    <tr>\n",
       "      <th>F1 Score</th>\n",
       "      <td>0.828818</td>\n",
       "      <td>0.826789</td>\n",
       "      <td>0.920575</td>\n",
       "      <td>0.858322</td>\n",
       "    </tr>\n",
       "    <tr>\n",
       "      <th>Accuracy</th>\n",
       "      <td>0.818895</td>\n",
       "      <td>0.836829</td>\n",
       "      <td>0.918655</td>\n",
       "      <td>0.86261</td>\n",
       "    </tr>\n",
       "    <tr>\n",
       "      <th>AUC</th>\n",
       "      <td>0.818367</td>\n",
       "      <td>0.837548</td>\n",
       "      <td>0.918501</td>\n",
       "      <td>0.863034</td>\n",
       "    </tr>\n",
       "  </tbody>\n",
       "</table>\n",
       "</div>"
      ],
      "text/plain": [
       "          SVM_dict_v1  ...                        SVM_dict_v4\n",
       "Model             SVM  ...                                SVM\n",
       "Version             1  ...                                  4\n",
       "Kernel         Linear  ...  Polynomial with Standardized Data\n",
       "Precision    0.867554  ...                           0.823511\n",
       "Recall       0.793393  ...                           0.896207\n",
       "F1 Score     0.828818  ...                           0.858322\n",
       "Accuracy     0.818895  ...                            0.86261\n",
       "AUC          0.818367  ...                           0.863034\n",
       "\n",
       "[8 rows x 4 columns]"
      ]
     },
     "execution_count": 61,
     "metadata": {},
     "output_type": "execute_result"
    }
   ],
   "source": [
    "# Concatenate all dictionaries into a Pandas dataframe\n",
    "summary = pd.DataFrame({'SVM_dict_v1':pd.Series(SVM_dict_v1),\n",
    "                       'SVM_dict_v2':pd.Series(SVM_dict_v2),\n",
    "                       'SVM_dict_v3':pd.Series(SVM_dict_v3),\n",
    "                       'SVM_dict_v4':pd.Series(SVM_dict_v4)})\n",
    "\n",
    "summary"
   ]
  },
  {
   "cell_type": "markdown",
   "metadata": {
    "id": "9s4nkC2eejSG"
   },
   "source": [
    "### Prediction with the Trained Model"
   ]
  },
  {
   "cell_type": "code",
   "execution_count": 67,
   "metadata": {
    "id": "7k_67xX3ejSG"
   },
   "outputs": [],
   "source": [
    "# New registry\n",
    "new_x = np.array([4.0, 5.56, 1.0, 3.78, 2.995, 6.00, 0.69, 0.70, 0.69, 0, 6, 1, 1, 3, 3, 2, False]).reshape(1, -1)"
   ]
  },
  {
   "cell_type": "code",
   "execution_count": 68,
   "metadata": {
    "id": "xQIk8FhsejSG"
   },
   "outputs": [],
   "source": [
    "# Standardizing the registry\n",
    "new_x_scaled = StandardScaler().fit_transform(new_x)"
   ]
  },
  {
   "cell_type": "code",
   "execution_count": 69,
   "metadata": {
    "id": "k3tmZMpNejSH"
   },
   "outputs": [],
   "source": [
    "# Prediction\n",
    "pred_new_x = model_v3_grid_search_rbf.predict(new_x_scaled)"
   ]
  },
  {
   "cell_type": "code",
   "execution_count": 70,
   "metadata": {
    "colab": {
     "base_uri": "https://localhost:8080/"
    },
    "id": "-i1xQYX1ejSH",
    "outputId": "4a76417f-613a-4651-c890-a24720fcc1dc"
   },
   "outputs": [
    {
     "data": {
      "text/plain": [
       "array([ True])"
      ]
     },
     "execution_count": 70,
     "metadata": {},
     "output_type": "execute_result"
    }
   ],
   "source": [
    "pred_new_x"
   ]
  },
  {
   "cell_type": "markdown",
   "metadata": {
    "id": "j71MdBzMejSH"
   },
   "source": [
    "# End"
   ]
  }
 ],
 "metadata": {
  "colab": {
   "collapsed_sections": [
    "LKTQQOcFejR-"
   ],
   "name": "Mini_project.ipynb",
   "provenance": []
  },
  "kernelspec": {
   "display_name": "Python 3",
   "language": "python",
   "name": "python3"
  },
  "language_info": {
   "codemirror_mode": {
    "name": "ipython",
    "version": 3
   },
   "file_extension": ".py",
   "mimetype": "text/x-python",
   "name": "python",
   "nbconvert_exporter": "python",
   "pygments_lexer": "ipython3",
   "version": "3.8.10"
  }
 },
 "nbformat": 4,
 "nbformat_minor": 1
}
